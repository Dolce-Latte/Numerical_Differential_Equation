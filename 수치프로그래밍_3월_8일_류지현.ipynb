{
  "nbformat": 4,
  "nbformat_minor": 0,
  "metadata": {
    "colab": {
      "provenance": [],
      "authorship_tag": "ABX9TyPmWCXQdXn+ZrPUjoAhGou5",
      "include_colab_link": true
    },
    "kernelspec": {
      "name": "python3",
      "display_name": "Python 3"
    },
    "language_info": {
      "name": "python"
    }
  },
  "cells": [
    {
      "cell_type": "markdown",
      "metadata": {
        "id": "view-in-github",
        "colab_type": "text"
      },
      "source": [
        "<a href=\"https://colab.research.google.com/github/Dolce-Latte/Numerical_Differential_Equation/blob/main/%EC%88%98%EC%B9%98%ED%94%84%EB%A1%9C%EA%B7%B8%EB%9E%98%EB%B0%8D_3%EC%9B%94_8%EC%9D%BC_%EB%A5%98%EC%A7%80%ED%98%84.ipynb\" target=\"_parent\"><img src=\"https://colab.research.google.com/assets/colab-badge.svg\" alt=\"Open In Colab\"/></a>"
      ]
    },
    {
      "cell_type": "markdown",
      "source": [
        "2023/Mar/7"
      ],
      "metadata": {
        "id": "MNsJFn0tx0cE"
      }
    },
    {
      "cell_type": "markdown",
      "source": [
        "Type test"
      ],
      "metadata": {
        "id": "62Ht489oz10J"
      }
    },
    {
      "cell_type": "code",
      "execution_count": 6,
      "metadata": {
        "colab": {
          "base_uri": "https://localhost:8080/"
        },
        "id": "UizBQorQxXKN",
        "outputId": "c593184a-fede-4556-a860-5c051add07bd"
      },
      "outputs": [
        {
          "output_type": "stream",
          "name": "stdout",
          "text": [
            "153\n"
          ]
        }
      ],
      "source": [
        "a = 153\n",
        "print(a)"
      ]
    },
    {
      "cell_type": "code",
      "source": [
        "type(a)"
      ],
      "metadata": {
        "colab": {
          "base_uri": "https://localhost:8080/"
        },
        "id": "I_k-xbfJz0G5",
        "outputId": "da6b7b62-1619-44e6-da66-7f2faa896f80"
      },
      "execution_count": 7,
      "outputs": [
        {
          "output_type": "execute_result",
          "data": {
            "text/plain": [
              "int"
            ]
          },
          "metadata": {},
          "execution_count": 7
        }
      ]
    },
    {
      "cell_type": "code",
      "source": [
        "b = 153.2\n",
        "c = 4.3e-4\n",
        "print(f\"b : {b} \\nc : {c}\")"
      ],
      "metadata": {
        "colab": {
          "base_uri": "https://localhost:8080/"
        },
        "id": "HppsEbqX0TJ5",
        "outputId": "6b7fdc85-91ed-46f4-d16c-d95a71b67fee"
      },
      "execution_count": 12,
      "outputs": [
        {
          "output_type": "stream",
          "name": "stdout",
          "text": [
            "b : 153.2 \n",
            "c : 0.00043\n"
          ]
        }
      ]
    },
    {
      "cell_type": "code",
      "source": [
        "print(type(b))\n",
        "print(type(c))"
      ],
      "metadata": {
        "colab": {
          "base_uri": "https://localhost:8080/"
        },
        "id": "JMPggBu_0rDX",
        "outputId": "0e590611-90ad-4a84-8d3b-257a54d1cc99"
      },
      "execution_count": 14,
      "outputs": [
        {
          "output_type": "stream",
          "name": "stdout",
          "text": [
            "<class 'float'>\n",
            "<class 'float'>\n"
          ]
        }
      ]
    },
    {
      "cell_type": "code",
      "source": [
        "5+2"
      ],
      "metadata": {
        "colab": {
          "base_uri": "https://localhost:8080/"
        },
        "id": "xkWIP35h1MVZ",
        "outputId": "42adbbce-4268-425f-91b5-5f25821f9ff4"
      },
      "execution_count": 16,
      "outputs": [
        {
          "output_type": "execute_result",
          "data": {
            "text/plain": [
              "7"
            ]
          },
          "metadata": {},
          "execution_count": 16
        }
      ]
    },
    {
      "cell_type": "code",
      "source": [
        "5-3"
      ],
      "metadata": {
        "colab": {
          "base_uri": "https://localhost:8080/"
        },
        "id": "Wxn99YyV2VAv",
        "outputId": "544e6453-50c3-417a-f3c3-7949c93f3e72"
      },
      "execution_count": 17,
      "outputs": [
        {
          "output_type": "execute_result",
          "data": {
            "text/plain": [
              "2"
            ]
          },
          "metadata": {},
          "execution_count": 17
        }
      ]
    },
    {
      "cell_type": "code",
      "source": [
        "5//2"
      ],
      "metadata": {
        "colab": {
          "base_uri": "https://localhost:8080/"
        },
        "id": "SqPLAP3I2Wav",
        "outputId": "904ff331-c4af-42b1-86ec-81cc7bec1ad0"
      },
      "execution_count": 18,
      "outputs": [
        {
          "output_type": "execute_result",
          "data": {
            "text/plain": [
              "2"
            ]
          },
          "metadata": {},
          "execution_count": 18
        }
      ]
    },
    {
      "cell_type": "code",
      "source": [
        "5**2"
      ],
      "metadata": {
        "colab": {
          "base_uri": "https://localhost:8080/"
        },
        "id": "R8IcIOnf2XBn",
        "outputId": "bd36c7a7-6013-47ab-dc30-4a9c7a7ca9e1"
      },
      "execution_count": 19,
      "outputs": [
        {
          "output_type": "execute_result",
          "data": {
            "text/plain": [
              "25"
            ]
          },
          "metadata": {},
          "execution_count": 19
        }
      ]
    },
    {
      "cell_type": "code",
      "source": [
        "#@title 연산자 우선순위 괄호 > 곱셈,나눗셈 > 덧셈,뺄셈\n",
        "\n",
        "a = 2\n",
        "b = 3\n",
        "c = 4\n",
        "print(a + b - c)"
      ],
      "metadata": {
        "colab": {
          "base_uri": "https://localhost:8080/"
        },
        "id": "yGS3uACi2Xx-",
        "outputId": "1557c57a-a559-4306-f625-4632c3649fb6"
      },
      "execution_count": 20,
      "outputs": [
        {
          "output_type": "stream",
          "name": "stdout",
          "text": [
            "1\n"
          ]
        }
      ]
    },
    {
      "cell_type": "code",
      "source": [
        "#@title Math Library test\n",
        "\n",
        "min([-3, 19, 20])"
      ],
      "metadata": {
        "colab": {
          "base_uri": "https://localhost:8080/"
        },
        "id": "fuv83LYu3pAY",
        "outputId": "e6a8f623-7b89-4222-f6ee-fc1b84b8c10e"
      },
      "execution_count": 24,
      "outputs": [
        {
          "output_type": "execute_result",
          "data": {
            "text/plain": [
              "-3"
            ]
          },
          "metadata": {},
          "execution_count": 24
        }
      ]
    },
    {
      "cell_type": "code",
      "source": [
        "import math"
      ],
      "metadata": {
        "id": "wsaaOp_34qgP"
      },
      "execution_count": 25,
      "outputs": []
    },
    {
      "cell_type": "code",
      "source": [
        "math.sqrt(2)"
      ],
      "metadata": {
        "colab": {
          "base_uri": "https://localhost:8080/"
        },
        "id": "OkfN-CYE6I7t",
        "outputId": "76237228-403c-4e61-cf5b-a8a45812ea19"
      },
      "execution_count": 27,
      "outputs": [
        {
          "output_type": "execute_result",
          "data": {
            "text/plain": [
              "1.4142135623730951"
            ]
          },
          "metadata": {},
          "execution_count": 27
        }
      ]
    },
    {
      "cell_type": "code",
      "source": [
        "#@title Assignment\n",
        "x = 5\n",
        "x += 2\n",
        "\n",
        "print(x)"
      ],
      "metadata": {
        "colab": {
          "base_uri": "https://localhost:8080/"
        },
        "id": "svtiL2oH6RUt",
        "outputId": "6c9214ec-e9f9-4858-d780-d499403fbff3"
      },
      "execution_count": 41,
      "outputs": [
        {
          "output_type": "stream",
          "name": "stdout",
          "text": [
            "7\n"
          ]
        }
      ]
    },
    {
      "cell_type": "code",
      "source": [
        "x -= 3\n",
        "print(x)"
      ],
      "metadata": {
        "colab": {
          "base_uri": "https://localhost:8080/"
        },
        "id": "vqoUXp6B_G-D",
        "outputId": "7af6416c-f627-4b11-f9e0-fc86c354d526"
      },
      "execution_count": 42,
      "outputs": [
        {
          "output_type": "stream",
          "name": "stdout",
          "text": [
            "4\n"
          ]
        }
      ]
    },
    {
      "cell_type": "code",
      "source": [
        "x *= 3\n",
        "x"
      ],
      "metadata": {
        "colab": {
          "base_uri": "https://localhost:8080/"
        },
        "id": "Oxrdi5XS_iBK",
        "outputId": "2df91117-4b8b-408c-8283-11f40d385320"
      },
      "execution_count": 43,
      "outputs": [
        {
          "output_type": "execute_result",
          "data": {
            "text/plain": [
              "12"
            ]
          },
          "metadata": {},
          "execution_count": 43
        }
      ]
    },
    {
      "cell_type": "code",
      "source": [
        "x /= 2\n",
        "print(x)"
      ],
      "metadata": {
        "colab": {
          "base_uri": "https://localhost:8080/"
        },
        "id": "sxM96oaS_kUC",
        "outputId": "41b60f31-f6d0-4f8f-d196-7cc2255a9472"
      },
      "execution_count": 44,
      "outputs": [
        {
          "output_type": "stream",
          "name": "stdout",
          "text": [
            "6.0\n"
          ]
        }
      ]
    },
    {
      "cell_type": "code",
      "source": [
        "x **= 3\n",
        "print(x) "
      ],
      "metadata": {
        "colab": {
          "base_uri": "https://localhost:8080/"
        },
        "id": "0ce-ZM6N_sIi",
        "outputId": "5e8e2696-5ac9-4303-e7ad-52c2b07f69ce"
      },
      "execution_count": 46,
      "outputs": [
        {
          "output_type": "stream",
          "name": "stdout",
          "text": [
            "216.0\n"
          ]
        }
      ]
    },
    {
      "cell_type": "code",
      "source": [
        "x %= 11\n",
        "print(x)"
      ],
      "metadata": {
        "colab": {
          "base_uri": "https://localhost:8080/"
        },
        "id": "L9Q5UVdM_xeS",
        "outputId": "a961ae24-d3a2-4546-b57e-379eb12e87d7"
      },
      "execution_count": 47,
      "outputs": [
        {
          "output_type": "stream",
          "name": "stdout",
          "text": [
            "7.0\n"
          ]
        }
      ]
    },
    {
      "cell_type": "code",
      "source": [
        "x //= 3\n",
        "print(x)"
      ],
      "metadata": {
        "colab": {
          "base_uri": "https://localhost:8080/"
        },
        "id": "C-xxyKCiATkC",
        "outputId": "af141061-4f05-46f9-e038-8c0712021905"
      },
      "execution_count": 48,
      "outputs": [
        {
          "output_type": "stream",
          "name": "stdout",
          "text": [
            "2.0\n"
          ]
        }
      ]
    },
    {
      "cell_type": "code",
      "source": [
        "#@title 문자열 자료형\n",
        "\n",
        "a = \"Math is hard.\"\n",
        "print(a)"
      ],
      "metadata": {
        "colab": {
          "base_uri": "https://localhost:8080/"
        },
        "id": "VgzJJugx_3-q",
        "outputId": "39e7daa2-6d7c-45f2-c240-90949a074de1"
      },
      "execution_count": 49,
      "outputs": [
        {
          "output_type": "stream",
          "name": "stdout",
          "text": [
            "Math is hard.\n"
          ]
        }
      ]
    },
    {
      "cell_type": "code",
      "source": [
        "type(a)"
      ],
      "metadata": {
        "colab": {
          "base_uri": "https://localhost:8080/"
        },
        "id": "Hu_k4UZDAeDK",
        "outputId": "c8111154-662d-4b7d-d0de-3206016ed096"
      },
      "execution_count": 50,
      "outputs": [
        {
          "output_type": "execute_result",
          "data": {
            "text/plain": [
              "str"
            ]
          },
          "metadata": {},
          "execution_count": 50
        }
      ]
    },
    {
      "cell_type": "code",
      "source": [
        "#@title 실습 : 동전 교환프로그램\n",
        "\n",
        "print(\"교환할 금액은 ? \")\n",
        "\n",
        "price = int(input(\"입력받은 금액은 : \"))\n",
        "\n",
        "count_500 = 0\n",
        "count_100 = 0\n",
        "count_50 = 0 \n",
        "count_10 = 0\n",
        "count_rem = 0\n",
        "\n",
        "count_500 = price // 500\n",
        "price -= count_500 * 500\n",
        "\n",
        "count_100 = price // 100\n",
        "price -= count_100 * 100\n",
        "\n",
        "count_50 = price // 50\n",
        "price -= count_50 * 50\n",
        "\n",
        "count_10 = price // 10\n",
        "price -= count_10 * 10\n",
        "\n",
        "count_rem = price\n",
        "\n",
        "print(f\"500원 개수 : {count_500}\")\n",
        "print(f\"100원 개수 : {count_100}\")\n",
        "print(f\"50원 개수 : {count_50}\")\n",
        "print(f\"10원 개수 : {count_10}\")\n",
        "print(f\"교환하지 못하는 금액 : {count_rem}\")"
      ],
      "metadata": {
        "colab": {
          "base_uri": "https://localhost:8080/"
        },
        "id": "z6roQxElAjdy",
        "outputId": "f57b835e-c55d-4ed1-d74f-8c72de86e301"
      },
      "execution_count": 58,
      "outputs": [
        {
          "output_type": "stream",
          "name": "stdout",
          "text": [
            "교환할 금액은 ? \n",
            "입력받은 금액은 : 45523\n",
            "500원 개수 : 91\n",
            "100원 개수 : 0\n",
            "50원 개수 : 0\n",
            "10원 개수 : 2\n",
            "교환하지 못하는 금액 : 3\n"
          ]
        }
      ]
    },
    {
      "cell_type": "code",
      "source": [],
      "metadata": {
        "id": "fjf7UeZDBQ6K"
      },
      "execution_count": null,
      "outputs": []
    }
  ]
}