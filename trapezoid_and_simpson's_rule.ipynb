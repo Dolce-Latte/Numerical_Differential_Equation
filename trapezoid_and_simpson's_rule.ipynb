{
  "nbformat": 4,
  "nbformat_minor": 0,
  "metadata": {
    "colab": {
      "provenance": [],
      "authorship_tag": "ABX9TyMvFoJmYVf8LmjEC+U+BmQD",
      "include_colab_link": true
    },
    "kernelspec": {
      "name": "python3",
      "display_name": "Python 3"
    },
    "language_info": {
      "name": "python"
    }
  },
  "cells": [
    {
      "cell_type": "markdown",
      "metadata": {
        "id": "view-in-github",
        "colab_type": "text"
      },
      "source": [
        "<a href=\"https://colab.research.google.com/github/Dolce-Latte/Numerical_Differential_Equation/blob/main/trapezoid_and_simpson's_rule.ipynb\" target=\"_parent\"><img src=\"https://colab.research.google.com/assets/colab-badge.svg\" alt=\"Open In Colab\"/></a>"
      ]
    },
    {
      "cell_type": "code",
      "execution_count": 2,
      "metadata": {
        "id": "icqJM8UzN32i"
      },
      "outputs": [],
      "source": [
        "import numpy as np\n",
        "import matplotlib.pyplot as plt"
      ]
    },
    {
      "cell_type": "code",
      "source": [
        "def composite_trap(n):\n",
        "  a = 0\n",
        "  b = np.pi\n",
        "  h = (b - a) / (n - 1)\n",
        "  x = np.linspace(a, b, n)\n",
        "  f = np.sin(x)\n",
        "\n",
        "  l_trap = (h / 2) * (f[0] + f[n - 1] + 2 * sum(f[1: (n -1 )]))\n",
        "  err_trap = 2 - l_trap\n",
        "  print(l_trap)\n",
        "  print(err_trap)"
      ],
      "metadata": {
        "id": "qubBbHcYOYhU"
      },
      "execution_count": 3,
      "outputs": []
    },
    {
      "cell_type": "code",
      "source": [
        "composite_trap(5)"
      ],
      "metadata": {
        "colab": {
          "base_uri": "https://localhost:8080/"
        },
        "id": "mf37beLZPRk8",
        "outputId": "dec65f7f-bd9d-4647-8d4e-f1e9140da95b"
      },
      "execution_count": 4,
      "outputs": [
        {
          "output_type": "stream",
          "name": "stdout",
          "text": [
            "1.8961188979370398\n",
            "0.1038811020629602\n"
          ]
        }
      ]
    },
    {
      "cell_type": "code",
      "source": [
        "composite_trap(9)"
      ],
      "metadata": {
        "colab": {
          "base_uri": "https://localhost:8080/"
        },
        "id": "tEIGb_a-PXED",
        "outputId": "452a4f8d-746c-40fd-d5d7-ab4f5e3e9af9"
      },
      "execution_count": 5,
      "outputs": [
        {
          "output_type": "stream",
          "name": "stdout",
          "text": [
            "1.9742316019455508\n",
            "0.025768398054449193\n"
          ]
        }
      ]
    },
    {
      "cell_type": "code",
      "source": [
        "composite_trap(17)"
      ],
      "metadata": {
        "colab": {
          "base_uri": "https://localhost:8080/"
        },
        "id": "qKW12RNgPbTl",
        "outputId": "60031a83-0d41-4e89-aed7-71842600cb43"
      },
      "execution_count": 6,
      "outputs": [
        {
          "output_type": "stream",
          "name": "stdout",
          "text": [
            "1.9935703437723395\n",
            "0.006429656227660452\n"
          ]
        }
      ]
    },
    {
      "cell_type": "code",
      "source": [
        "0.1038811020629602 / 0.025768398054449193"
      ],
      "metadata": {
        "colab": {
          "base_uri": "https://localhost:8080/"
        },
        "id": "j4Z-qe8IPfEF",
        "outputId": "67da55ae-32e4-4b6b-8076-a31f2714e59e"
      },
      "execution_count": 7,
      "outputs": [
        {
          "output_type": "execute_result",
          "data": {
            "text/plain": [
              "4.031337215586981"
            ]
          },
          "metadata": {},
          "execution_count": 7
        }
      ]
    },
    {
      "cell_type": "code",
      "source": [
        "0.025768398054449193 / 0.006429656227660452"
      ],
      "metadata": {
        "colab": {
          "base_uri": "https://localhost:8080/"
        },
        "id": "p0qg3BqPPok0",
        "outputId": "049df9b3-989e-4e95-a4d4-e0785264957f"
      },
      "execution_count": 8,
      "outputs": [
        {
          "output_type": "execute_result",
          "data": {
            "text/plain": [
              "4.007741182739018"
            ]
          },
          "metadata": {},
          "execution_count": 8
        }
      ]
    },
    {
      "cell_type": "code",
      "source": [
        "def composite_simpson(n):\n",
        "  a = 0\n",
        "  b = np.pi\n",
        "  h = (b - a) / (n - 1)\n",
        "  x = np.linspace(a, b, n)\n",
        "  f = np.sin(x)\n",
        "\n",
        "  l_simpson = (h / 3) * (f[0] + f[n - 1] + 4 * sum(f[1:(n - 1):2]) + 2 * sum(f[:(n - 2):2]))\n",
        "  err_simpson = 2 - l_simpson\n",
        "\n",
        "  print(l_simpson)\n",
        "  print(err_simpson)"
      ],
      "metadata": {
        "id": "lQLFieX1Pro0"
      },
      "execution_count": 10,
      "outputs": []
    },
    {
      "cell_type": "code",
      "source": [
        "composite_simpson(5)"
      ],
      "metadata": {
        "colab": {
          "base_uri": "https://localhost:8080/"
        },
        "id": "GbfQidlUQm09",
        "outputId": "9cb3456b-5d38-40a1-9558-808009d5aefa"
      },
      "execution_count": 11,
      "outputs": [
        {
          "output_type": "stream",
          "name": "stdout",
          "text": [
            "2.0045597549844207\n",
            "-0.0045597549844207386\n"
          ]
        }
      ]
    },
    {
      "cell_type": "code",
      "source": [
        "composite_simpson(9)"
      ],
      "metadata": {
        "colab": {
          "base_uri": "https://localhost:8080/"
        },
        "id": "-yYSED_sQtd0",
        "outputId": "4e6e8a54-982f-4cca-bc28-7254c44b9598"
      },
      "execution_count": 12,
      "outputs": [
        {
          "output_type": "stream",
          "name": "stdout",
          "text": [
            "2.0002691699483877\n",
            "-0.00026916994838765973\n"
          ]
        }
      ]
    },
    {
      "cell_type": "code",
      "source": [
        "composite_simpson(17)"
      ],
      "metadata": {
        "colab": {
          "base_uri": "https://localhost:8080/"
        },
        "id": "wMjWMrquQwHc",
        "outputId": "19d3e351-fe5d-4030-b075-c4a04a9dda7e"
      },
      "execution_count": 13,
      "outputs": [
        {
          "output_type": "stream",
          "name": "stdout",
          "text": [
            "2.0000165910479355\n",
            "-1.6591047935499148e-05\n"
          ]
        }
      ]
    },
    {
      "cell_type": "code",
      "source": [
        "-0.0045597549844207386 / -0.00026916994838765973"
      ],
      "metadata": {
        "colab": {
          "base_uri": "https://localhost:8080/"
        },
        "id": "hOdbO1JMQyM8",
        "outputId": "e671d5d7-ff16-4742-f5e5-1bf37b06fe98"
      },
      "execution_count": 14,
      "outputs": [
        {
          "output_type": "execute_result",
          "data": {
            "text/plain": [
              "16.940059660203076"
            ]
          },
          "metadata": {},
          "execution_count": 14
        }
      ]
    },
    {
      "cell_type": "code",
      "source": [
        "-0.00026916994838765973 / -1.6591047935499148e-05"
      ],
      "metadata": {
        "colab": {
          "base_uri": "https://localhost:8080/"
        },
        "id": "Ov98jnaIQ2Ij",
        "outputId": "09ed921d-fee4-470e-9045-8a875c640cb2"
      },
      "execution_count": 15,
      "outputs": [
        {
          "output_type": "execute_result",
          "data": {
            "text/plain": [
              "16.223806322187066"
            ]
          },
          "metadata": {},
          "execution_count": 15
        }
      ]
    },
    {
      "cell_type": "code",
      "source": [],
      "metadata": {
        "id": "5wovuehqQ60E"
      },
      "execution_count": null,
      "outputs": []
    }
  ]
}